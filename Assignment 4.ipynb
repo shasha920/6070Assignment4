{
 "cells": [
  {
   "cell_type": "markdown",
   "metadata": {},
   "source": [
    "# GBA 6070 - Programming Foundation for Business Analytics\n",
    "# Dr. Mohammad Salehan\n",
    "# Assignment 4: Iteration"
   ]
  },
  {
   "cell_type": "markdown",
   "metadata": {},
   "source": [
    "1. Write a program that prints the first 10 even numbers (does not include zero) and their sum."
   ]
  },
  {
   "cell_type": "code",
   "execution_count": 1,
   "metadata": {},
   "outputs": [
    {
     "name": "stdout",
     "output_type": "stream",
     "text": [
      "2\n",
      "4\n",
      "6\n",
      "8\n",
      "10\n",
      "12\n",
      "14\n",
      "16\n",
      "18\n",
      "20\n",
      "110\n"
     ]
    }
   ],
   "source": [
    "n=2\n",
    "total=0\n",
    "for i in range(10):\n",
    "    total+=n\n",
    "    print(n)\n",
    "    n=n+2   \n",
    "print(total)"
   ]
  },
  {
   "cell_type": "markdown",
   "metadata": {},
   "source": [
    "2. Write a function that calculates factorial(n). In mathematics it is is displayed as n!. Factorial is the product of an integer and all the integers below it; e.g. factorial four ( 4! ) is equal to 24 (4 * 3 * 2 * 1)."
   ]
  },
  {
   "cell_type": "code",
   "execution_count": 3,
   "metadata": {},
   "outputs": [
    {
     "name": "stdin",
     "output_type": "stream",
     "text": [
      "Please input:  4\n"
     ]
    },
    {
     "name": "stdout",
     "output_type": "stream",
     "text": [
      "24\n"
     ]
    }
   ],
   "source": [
    "def factorial(n):\n",
    "    if n==0:\n",
    "        return 1\n",
    "    else:\n",
    "        return n * factorial(n-1)\n",
    "n=int(input(\"Please input: \"))\n",
    "print(factorial(n))"
   ]
  },
  {
   "cell_type": "markdown",
   "metadata": {},
   "source": [
    "3. The built-in function eval takes a string and evaluates it using the Python interpreter.\n",
    "For example:"
   ]
  },
  {
   "cell_type": "code",
   "execution_count": 4,
   "metadata": {},
   "outputs": [
    {
     "data": {
      "text/plain": [
       "7"
      ]
     },
     "execution_count": 4,
     "metadata": {},
     "output_type": "execute_result"
    }
   ],
   "source": [
    "eval('1 + 2 * 3')"
   ]
  },
  {
   "cell_type": "code",
   "execution_count": 5,
   "metadata": {},
   "outputs": [
    {
     "data": {
      "text/plain": [
       "2.23606797749979"
      ]
     },
     "execution_count": 5,
     "metadata": {},
     "output_type": "execute_result"
    }
   ],
   "source": [
    "import math\n",
    "eval('math.sqrt(5)')"
   ]
  },
  {
   "cell_type": "code",
   "execution_count": 6,
   "metadata": {},
   "outputs": [
    {
     "data": {
      "text/plain": [
       "float"
      ]
     },
     "execution_count": 6,
     "metadata": {},
     "output_type": "execute_result"
    }
   ],
   "source": [
    "eval('type(math.pi)')"
   ]
  },
  {
   "cell_type": "markdown",
   "metadata": {},
   "source": [
    "Write a function called eval_loop that iteratively prompts the user, takes the resulting input and\n",
    "evaluates it using eval, and prints the result.<br>\n",
    "It should continue until the user enters 'done', and then return the value of the last expression it\n",
    "evaluated."
   ]
  },
  {
   "cell_type": "code",
   "execution_count": 7,
   "metadata": {},
   "outputs": [
    {
     "name": "stdin",
     "output_type": "stream",
     "text": [
      "Please enter: (done for quit) math.sqrt(5)\n"
     ]
    },
    {
     "name": "stdout",
     "output_type": "stream",
     "text": [
      "2.23606797749979\n"
     ]
    },
    {
     "name": "stdin",
     "output_type": "stream",
     "text": [
      "Please enter: (done for quit) type(math.pi)\n"
     ]
    },
    {
     "name": "stdout",
     "output_type": "stream",
     "text": [
      "<class 'float'>\n"
     ]
    },
    {
     "name": "stdin",
     "output_type": "stream",
     "text": [
      "Please enter: (done for quit) 1 + 2 * 3\n"
     ]
    },
    {
     "name": "stdout",
     "output_type": "stream",
     "text": [
      "7\n"
     ]
    },
    {
     "name": "stdin",
     "output_type": "stream",
     "text": [
      "Please enter: (done for quit) done\n"
     ]
    },
    {
     "data": {
      "text/plain": [
       "7"
      ]
     },
     "execution_count": 7,
     "metadata": {},
     "output_type": "execute_result"
    }
   ],
   "source": [
    "def eval_loop():\n",
    "    r=0\n",
    "    while True:\n",
    "        n=input(\"Please enter: (done for quit)\")\n",
    "        if n=='done':\n",
    "            break\n",
    "        else:\n",
    "            r=eval(n)\n",
    "            print(r)\n",
    "    return r\n",
    "\n",
    "eval_loop()     "
   ]
  },
  {
   "cell_type": "markdown",
   "metadata": {},
   "source": [
    "4. Write a program that print the left half of a multiplication table as you see below. Use nested loops.<br>\n",
    "Hint 1: check out this page to learn how to format strings: https://www.geeksforgeeks.org/python-format-function/"
   ]
  },
  {
   "attachments": {
    "Multiplication%20table.png": {
     "image/png": "[encoded data removed]"
    }
   },
   "cell_type": "markdown",
   "metadata": {},
   "source": [
    "![Multiplication%20table.png](attachment:Multiplication%20table.png)"
   ]
  },
  {
   "cell_type": "code",
   "execution_count": 8,
   "metadata": {},
   "outputs": [
    {
     "name": "stdout",
     "output_type": "stream",
     "text": [
      "\t 1\u0007\t 2\u0007\t 3\u0007\t 4\u0007\t 5\u0007\t 6\u0007\t 7\u0007\t 8\u0007\t 9\u0007\t 10\u0007\n",
      "        ----------------------------------------------------------------------------\n",
      "1\u0007\t | 1\t\n",
      "\n",
      "2\u0007\t | 2\t4\t\n",
      "\n",
      "3\u0007\t | 3\t6\t9\t\n",
      "\n",
      "4\u0007\t | 4\t8\t12\t16\t\n",
      "\n",
      "5\u0007\t | 5\t10\t15\t20\t25\t\n",
      "\n",
      "6\u0007\t | 6\t12\t18\t24\t30\t36\t\n",
      "\n",
      "7\u0007\t | 7\t14\t21\t28\t35\t42\t49\t\n",
      "\n",
      "8\u0007\t | 8\t16\t24\t32\t40\t48\t56\t64\t\n",
      "\n",
      "9\u0007\t | 9\t18\t27\t36\t45\t54\t63\t72\t81\t\n",
      "\n",
      "10\u0007\t | 10\t20\t30\t40\t50\t60\t70\t80\t90\t100\t\n",
      "\n"
     ]
    }
   ],
   "source": [
    "for i in range(1,11):\n",
    "    print(\"\\t\",i,end=\"\\a\")\n",
    "print()\n",
    "print(\"        ----------------------------------------------------------------------------\")\n",
    "for m in range(1,11):\n",
    "    \n",
    "    print(m,end=\"\\a\")\n",
    "    \n",
    "    print(\"\\t\",\"|\",end=\" \")\n",
    "    for j in range(1,m+1):\n",
    "        \n",
    "        k=j*m\n",
    "        \n",
    "        print(k,end=\"\\t\")\n",
    "    \n",
    "    print(\"\\n\")\n",
    "   \n",
    "   \n",
    "   \n",
    "     \n",
    "        "
   ]
  },
  {
   "cell_type": "markdown",
   "metadata": {},
   "source": [
    "5. Write a program to read in (from input using a loop) 10 numbers and compute the average, maximum and minimum values."
   ]
  },
  {
   "cell_type": "code",
   "execution_count": 9,
   "metadata": {},
   "outputs": [
    {
     "name": "stdin",
     "output_type": "stream",
     "text": [
      "Enter 1 number 10\n",
      "Enter 2 number 10\n",
      "Enter 3 number 20\n",
      "Enter 4 number 80\n",
      "Enter 5 number 10\n",
      "Enter 6 number 90\n",
      "Enter 7 number 10\n",
      "Enter 8 number 2\n",
      "Enter 9 number 10\n",
      "Enter 10 number 10\n"
     ]
    },
    {
     "name": "stdout",
     "output_type": "stream",
     "text": [
      "The average is:  25.2\n",
      "the maximum is:  90\n",
      "The minimum is:  2\n"
     ]
    }
   ],
   "source": [
    "num=[ ]\n",
    "for i in range(1,11):\n",
    "    a=int(input(\"Enter %d number\" %i))\n",
    "    num.append(a)\n",
    "    \n",
    "print(\"The average is: \",sum(num)/len(num))\n",
    "print(\"the maximum is: \",max(num))\n",
    "print(\"The minimum is: \",min(num))"
   ]
  },
  {
   "cell_type": "code",
   "execution_count": null,
   "metadata": {},
   "outputs": [],
   "source": [
    "\n",
    "              "
   ]
  },
  {
   "cell_type": "code",
   "execution_count": null,
   "metadata": {},
   "outputs": [],
   "source": []
  },
  {
   "cell_type": "code",
   "execution_count": null,
   "metadata": {},
   "outputs": [],
   "source": []
  },
  {
   "cell_type": "code",
   "execution_count": null,
   "metadata": {},
   "outputs": [],
   "source": []
  }
 ],
 "metadata": {
  "kernelspec": {
   "display_name": "Python 3 (ipykernel)",
   "language": "python",
   "name": "python3"
  },
  "language_info": {
   "codemirror_mode": {
    "name": "ipython",
    "version": 3
   },
   "file_extension": ".py",
   "mimetype": "text/x-python",
   "name": "python",
   "nbconvert_exporter": "python",
   "pygments_lexer": "ipython3",
   "version": "3.9.12"
  }
 },
 "nbformat": 4,
 "nbformat_minor": 4
}
